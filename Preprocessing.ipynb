{
 "cells": [
  {
   "cell_type": "code",
   "execution_count": 2,
   "id": "7e604c4b-b5cc-47b0-9651-4bd0170e04ff",
   "metadata": {},
   "outputs": [],
   "source": [
    "import pandas as pd\n"
   ]
  },
  {
   "cell_type": "code",
   "execution_count": null,
   "id": "0a6a8d26-3586-4914-a244-d3029282a27b",
   "metadata": {},
   "outputs": [
    {
     "data": {
      "text/html": [
       "<div>\n",
       "<style scoped>\n",
       "    .dataframe tbody tr th:only-of-type {\n",
       "        vertical-align: middle;\n",
       "    }\n",
       "\n",
       "    .dataframe tbody tr th {\n",
       "        vertical-align: top;\n",
       "    }\n",
       "\n",
       "    .dataframe thead th {\n",
       "        text-align: right;\n",
       "    }\n",
       "</style>\n",
       "<table border=\"1\" class=\"dataframe\">\n",
       "  <thead>\n",
       "    <tr style=\"text-align: right;\">\n",
       "      <th></th>\n",
       "      <th>Accident_Index</th>\n",
       "      <th>1st_Road_Class</th>\n",
       "      <th>1st_Road_Number</th>\n",
       "      <th>2nd_Road_Class</th>\n",
       "      <th>2nd_Road_Number</th>\n",
       "      <th>Accident_Severity</th>\n",
       "      <th>Carriageway_Hazards</th>\n",
       "      <th>Date</th>\n",
       "      <th>Day_of_Week</th>\n",
       "      <th>Did_Police_Officer_Attend_Scene_of_Accident</th>\n",
       "      <th>...</th>\n",
       "      <th>Police_Force</th>\n",
       "      <th>Road_Surface_Conditions</th>\n",
       "      <th>Road_Type</th>\n",
       "      <th>Special_Conditions_at_Site</th>\n",
       "      <th>Speed_limit</th>\n",
       "      <th>Time</th>\n",
       "      <th>Urban_or_Rural_Area</th>\n",
       "      <th>Weather_Conditions</th>\n",
       "      <th>Year</th>\n",
       "      <th>InScotland</th>\n",
       "    </tr>\n",
       "  </thead>\n",
       "  <tbody>\n",
       "    <tr>\n",
       "      <th>0</th>\n",
       "      <td>200501BS00001</td>\n",
       "      <td>A</td>\n",
       "      <td>3218.0</td>\n",
       "      <td>NaN</td>\n",
       "      <td>0.0</td>\n",
       "      <td>Serious</td>\n",
       "      <td>None</td>\n",
       "      <td>04-01-2005</td>\n",
       "      <td>Tuesday</td>\n",
       "      <td>1.0</td>\n",
       "      <td>...</td>\n",
       "      <td>Metropolitan Police</td>\n",
       "      <td>Wet or damp</td>\n",
       "      <td>Single carriageway</td>\n",
       "      <td>None</td>\n",
       "      <td>30</td>\n",
       "      <td>17:42</td>\n",
       "      <td>Urban</td>\n",
       "      <td>Raining no high winds</td>\n",
       "      <td>2005</td>\n",
       "      <td>No</td>\n",
       "    </tr>\n",
       "    <tr>\n",
       "      <th>1</th>\n",
       "      <td>200501BS00002</td>\n",
       "      <td>B</td>\n",
       "      <td>450.0</td>\n",
       "      <td>C</td>\n",
       "      <td>0.0</td>\n",
       "      <td>Slight</td>\n",
       "      <td>None</td>\n",
       "      <td>05-01-2005</td>\n",
       "      <td>Wednesday</td>\n",
       "      <td>1.0</td>\n",
       "      <td>...</td>\n",
       "      <td>Metropolitan Police</td>\n",
       "      <td>Dry</td>\n",
       "      <td>Dual carriageway</td>\n",
       "      <td>None</td>\n",
       "      <td>30</td>\n",
       "      <td>17:36</td>\n",
       "      <td>Urban</td>\n",
       "      <td>Fine no high winds</td>\n",
       "      <td>2005</td>\n",
       "      <td>No</td>\n",
       "    </tr>\n",
       "    <tr>\n",
       "      <th>2</th>\n",
       "      <td>200501BS00003</td>\n",
       "      <td>C</td>\n",
       "      <td>0.0</td>\n",
       "      <td>NaN</td>\n",
       "      <td>0.0</td>\n",
       "      <td>Slight</td>\n",
       "      <td>None</td>\n",
       "      <td>06-01-2005</td>\n",
       "      <td>Thursday</td>\n",
       "      <td>1.0</td>\n",
       "      <td>...</td>\n",
       "      <td>Metropolitan Police</td>\n",
       "      <td>Dry</td>\n",
       "      <td>Single carriageway</td>\n",
       "      <td>None</td>\n",
       "      <td>30</td>\n",
       "      <td>00:15</td>\n",
       "      <td>Urban</td>\n",
       "      <td>Fine no high winds</td>\n",
       "      <td>2005</td>\n",
       "      <td>No</td>\n",
       "    </tr>\n",
       "    <tr>\n",
       "      <th>3</th>\n",
       "      <td>200501BS00004</td>\n",
       "      <td>A</td>\n",
       "      <td>3220.0</td>\n",
       "      <td>NaN</td>\n",
       "      <td>0.0</td>\n",
       "      <td>Slight</td>\n",
       "      <td>None</td>\n",
       "      <td>07-01-2005</td>\n",
       "      <td>Friday</td>\n",
       "      <td>1.0</td>\n",
       "      <td>...</td>\n",
       "      <td>Metropolitan Police</td>\n",
       "      <td>Dry</td>\n",
       "      <td>Single carriageway</td>\n",
       "      <td>None</td>\n",
       "      <td>30</td>\n",
       "      <td>10:35</td>\n",
       "      <td>Urban</td>\n",
       "      <td>Fine no high winds</td>\n",
       "      <td>2005</td>\n",
       "      <td>No</td>\n",
       "    </tr>\n",
       "    <tr>\n",
       "      <th>4</th>\n",
       "      <td>200501BS00005</td>\n",
       "      <td>NaN</td>\n",
       "      <td>0.0</td>\n",
       "      <td>NaN</td>\n",
       "      <td>0.0</td>\n",
       "      <td>Slight</td>\n",
       "      <td>None</td>\n",
       "      <td>10-01-2005</td>\n",
       "      <td>Monday</td>\n",
       "      <td>1.0</td>\n",
       "      <td>...</td>\n",
       "      <td>Metropolitan Police</td>\n",
       "      <td>Wet or damp</td>\n",
       "      <td>Single carriageway</td>\n",
       "      <td>None</td>\n",
       "      <td>30</td>\n",
       "      <td>21:13</td>\n",
       "      <td>Urban</td>\n",
       "      <td>Fine no high winds</td>\n",
       "      <td>2005</td>\n",
       "      <td>No</td>\n",
       "    </tr>\n",
       "    <tr>\n",
       "      <th>...</th>\n",
       "      <td>...</td>\n",
       "      <td>...</td>\n",
       "      <td>...</td>\n",
       "      <td>...</td>\n",
       "      <td>...</td>\n",
       "      <td>...</td>\n",
       "      <td>...</td>\n",
       "      <td>...</td>\n",
       "      <td>...</td>\n",
       "      <td>...</td>\n",
       "      <td>...</td>\n",
       "      <td>...</td>\n",
       "      <td>...</td>\n",
       "      <td>...</td>\n",
       "      <td>...</td>\n",
       "      <td>...</td>\n",
       "      <td>...</td>\n",
       "      <td>...</td>\n",
       "      <td>...</td>\n",
       "      <td>...</td>\n",
       "      <td>...</td>\n",
       "    </tr>\n",
       "    <tr>\n",
       "      <th>1048570</th>\n",
       "      <td>201091NM01760</td>\n",
       "      <td>A</td>\n",
       "      <td>95.0</td>\n",
       "      <td>NaN</td>\n",
       "      <td>0.0</td>\n",
       "      <td>Slight</td>\n",
       "      <td>None</td>\n",
       "      <td>18-02-2010</td>\n",
       "      <td>Thursday</td>\n",
       "      <td>1.0</td>\n",
       "      <td>...</td>\n",
       "      <td>Northern</td>\n",
       "      <td>Dry</td>\n",
       "      <td>Single carriageway</td>\n",
       "      <td>None</td>\n",
       "      <td>60</td>\n",
       "      <td>07:00</td>\n",
       "      <td>Rural</td>\n",
       "      <td>Fine no high winds</td>\n",
       "      <td>2010</td>\n",
       "      <td>Yes</td>\n",
       "    </tr>\n",
       "    <tr>\n",
       "      <th>1048571</th>\n",
       "      <td>201091NM01881</td>\n",
       "      <td>A</td>\n",
       "      <td>95.0</td>\n",
       "      <td>NaN</td>\n",
       "      <td>0.0</td>\n",
       "      <td>Slight</td>\n",
       "      <td>None</td>\n",
       "      <td>21-02-2010</td>\n",
       "      <td>Sunday</td>\n",
       "      <td>1.0</td>\n",
       "      <td>...</td>\n",
       "      <td>Northern</td>\n",
       "      <td>Frost or ice</td>\n",
       "      <td>Single carriageway</td>\n",
       "      <td>None</td>\n",
       "      <td>60</td>\n",
       "      <td>03:00</td>\n",
       "      <td>Rural</td>\n",
       "      <td>Fine no high winds</td>\n",
       "      <td>2010</td>\n",
       "      <td>Yes</td>\n",
       "    </tr>\n",
       "    <tr>\n",
       "      <th>1048572</th>\n",
       "      <td>201091NM01935</td>\n",
       "      <td>A</td>\n",
       "      <td>96.0</td>\n",
       "      <td>Unclassified</td>\n",
       "      <td>0.0</td>\n",
       "      <td>Slight</td>\n",
       "      <td>None</td>\n",
       "      <td>23-02-2010</td>\n",
       "      <td>Tuesday</td>\n",
       "      <td>1.0</td>\n",
       "      <td>...</td>\n",
       "      <td>Northern</td>\n",
       "      <td>Frost or ice</td>\n",
       "      <td>Single carriageway</td>\n",
       "      <td>None</td>\n",
       "      <td>30</td>\n",
       "      <td>09:38</td>\n",
       "      <td>Rural</td>\n",
       "      <td>Fine no high winds</td>\n",
       "      <td>2010</td>\n",
       "      <td>Yes</td>\n",
       "    </tr>\n",
       "    <tr>\n",
       "      <th>1048573</th>\n",
       "      <td>201091NM01964</td>\n",
       "      <td>A</td>\n",
       "      <td>9.0</td>\n",
       "      <td>Unclassified</td>\n",
       "      <td>0.0</td>\n",
       "      <td>Serious</td>\n",
       "      <td>None</td>\n",
       "      <td>23-02-2010</td>\n",
       "      <td>Tuesday</td>\n",
       "      <td>1.0</td>\n",
       "      <td>...</td>\n",
       "      <td>Northern</td>\n",
       "      <td>Wet or damp</td>\n",
       "      <td>Single carriageway</td>\n",
       "      <td>None</td>\n",
       "      <td>60</td>\n",
       "      <td>18:25</td>\n",
       "      <td>Rural</td>\n",
       "      <td>Fine no high winds</td>\n",
       "      <td>2010</td>\n",
       "      <td>Yes</td>\n",
       "    </tr>\n",
       "    <tr>\n",
       "      <th>1048574</th>\n",
       "      <td>201091NM02142</td>\n",
       "      <td>NaN</td>\n",
       "      <td>0.0</td>\n",
       "      <td>Unclassified</td>\n",
       "      <td>0.0</td>\n",
       "      <td>Serious</td>\n",
       "      <td>Other object on road</td>\n",
       "      <td>28-02-2010</td>\n",
       "      <td>Sunday</td>\n",
       "      <td>1.0</td>\n",
       "      <td>...</td>\n",
       "      <td>Northern</td>\n",
       "      <td>Wet or damp</td>\n",
       "      <td>Dual carriageway</td>\n",
       "      <td>None</td>\n",
       "      <td>60</td>\n",
       "      <td>15:45</td>\n",
       "      <td>Rural</td>\n",
       "      <td>Snowing no high winds</td>\n",
       "      <td>2010</td>\n",
       "      <td>Yes</td>\n",
       "    </tr>\n",
       "  </tbody>\n",
       "</table>\n",
       "<p>1048575 rows × 34 columns</p>\n",
       "</div>"
      ],
      "text/plain": [
       "        Accident_Index 1st_Road_Class  1st_Road_Number 2nd_Road_Class  \\\n",
       "0        200501BS00001              A           3218.0            NaN   \n",
       "1        200501BS00002              B            450.0              C   \n",
       "2        200501BS00003              C              0.0            NaN   \n",
       "3        200501BS00004              A           3220.0            NaN   \n",
       "4        200501BS00005            NaN              0.0            NaN   \n",
       "...                ...            ...              ...            ...   \n",
       "1048570  201091NM01760              A             95.0            NaN   \n",
       "1048571  201091NM01881              A             95.0            NaN   \n",
       "1048572  201091NM01935              A             96.0   Unclassified   \n",
       "1048573  201091NM01964              A              9.0   Unclassified   \n",
       "1048574  201091NM02142            NaN              0.0   Unclassified   \n",
       "\n",
       "         2nd_Road_Number Accident_Severity   Carriageway_Hazards        Date  \\\n",
       "0                    0.0           Serious                  None  04-01-2005   \n",
       "1                    0.0            Slight                  None  05-01-2005   \n",
       "2                    0.0            Slight                  None  06-01-2005   \n",
       "3                    0.0            Slight                  None  07-01-2005   \n",
       "4                    0.0            Slight                  None  10-01-2005   \n",
       "...                  ...               ...                   ...         ...   \n",
       "1048570              0.0            Slight                  None  18-02-2010   \n",
       "1048571              0.0            Slight                  None  21-02-2010   \n",
       "1048572              0.0            Slight                  None  23-02-2010   \n",
       "1048573              0.0           Serious                  None  23-02-2010   \n",
       "1048574              0.0           Serious  Other object on road  28-02-2010   \n",
       "\n",
       "        Day_of_Week  Did_Police_Officer_Attend_Scene_of_Accident  ...  \\\n",
       "0           Tuesday                                          1.0  ...   \n",
       "1         Wednesday                                          1.0  ...   \n",
       "2          Thursday                                          1.0  ...   \n",
       "3            Friday                                          1.0  ...   \n",
       "4            Monday                                          1.0  ...   \n",
       "...             ...                                          ...  ...   \n",
       "1048570    Thursday                                          1.0  ...   \n",
       "1048571      Sunday                                          1.0  ...   \n",
       "1048572     Tuesday                                          1.0  ...   \n",
       "1048573     Tuesday                                          1.0  ...   \n",
       "1048574      Sunday                                          1.0  ...   \n",
       "\n",
       "                Police_Force Road_Surface_Conditions           Road_Type  \\\n",
       "0        Metropolitan Police             Wet or damp  Single carriageway   \n",
       "1        Metropolitan Police                     Dry    Dual carriageway   \n",
       "2        Metropolitan Police                     Dry  Single carriageway   \n",
       "3        Metropolitan Police                     Dry  Single carriageway   \n",
       "4        Metropolitan Police             Wet or damp  Single carriageway   \n",
       "...                      ...                     ...                 ...   \n",
       "1048570             Northern                     Dry  Single carriageway   \n",
       "1048571             Northern            Frost or ice  Single carriageway   \n",
       "1048572             Northern            Frost or ice  Single carriageway   \n",
       "1048573             Northern             Wet or damp  Single carriageway   \n",
       "1048574             Northern             Wet or damp    Dual carriageway   \n",
       "\n",
       "        Special_Conditions_at_Site Speed_limit   Time  Urban_or_Rural_Area  \\\n",
       "0                             None          30  17:42                Urban   \n",
       "1                             None          30  17:36                Urban   \n",
       "2                             None          30  00:15                Urban   \n",
       "3                             None          30  10:35                Urban   \n",
       "4                             None          30  21:13                Urban   \n",
       "...                            ...         ...    ...                  ...   \n",
       "1048570                       None          60  07:00                Rural   \n",
       "1048571                       None          60  03:00                Rural   \n",
       "1048572                       None          30  09:38                Rural   \n",
       "1048573                       None          60  18:25                Rural   \n",
       "1048574                       None          60  15:45                Rural   \n",
       "\n",
       "            Weather_Conditions  Year InScotland  \n",
       "0        Raining no high winds  2005         No  \n",
       "1           Fine no high winds  2005         No  \n",
       "2           Fine no high winds  2005         No  \n",
       "3           Fine no high winds  2005         No  \n",
       "4           Fine no high winds  2005         No  \n",
       "...                        ...   ...        ...  \n",
       "1048570     Fine no high winds  2010        Yes  \n",
       "1048571     Fine no high winds  2010        Yes  \n",
       "1048572     Fine no high winds  2010        Yes  \n",
       "1048573     Fine no high winds  2010        Yes  \n",
       "1048574  Snowing no high winds  2010        Yes  \n",
       "\n",
       "[1048575 rows x 34 columns]"
      ]
     },
     "execution_count": 4,
     "metadata": {},
     "output_type": "execute_result"
    }
   ],
   "source": [
    "df = pd.read_csv(\"accident_data.csv\")\n",
    "\n",
    "\n",
    "df"
   ]
  },
  {
   "cell_type": "code",
   "execution_count": 6,
   "id": "f8abba7b-40c9-401e-8a4c-cb800e4840c5",
   "metadata": {},
   "outputs": [
    {
     "data": {
      "text/plain": [
       "Accident_Index                                      0\n",
       "1st_Road_Class                                 305589\n",
       "1st_Road_Number                                     2\n",
       "2nd_Road_Class                                 439824\n",
       "2nd_Road_Number                                 10803\n",
       "Accident_Severity                                   0\n",
       "Carriageway_Hazards                                29\n",
       "Date                                                0\n",
       "Day_of_Week                                         0\n",
       "Did_Police_Officer_Attend_Scene_of_Accident       269\n",
       "Junction_Control                                    0\n",
       "Junction_Detail                                     0\n",
       "Latitude                                          111\n",
       "Light_Conditions                                 2084\n",
       "Local_Authority_(District)                          0\n",
       "Local_Authority_(Highway)                           0\n",
       "Location_Easting_OSGR                             111\n",
       "Location_Northing_OSGR                            111\n",
       "Longitude                                         112\n",
       "LSOA_of_Accident_Location                       71890\n",
       "Number_of_Casualties                                0\n",
       "Number_of_Vehicles                                  0\n",
       "Pedestrian_Crossing-Human_Control                  21\n",
       "Pedestrian_Crossing-Physical_Facilities            37\n",
       "Police_Force                                        0\n",
       "Road_Surface_Conditions                          1189\n",
       "Road_Type                                        7266\n",
       "Special_Conditions_at_Site                         16\n",
       "Speed_limit                                         0\n",
       "Time                                              100\n",
       "Urban_or_Rural_Area                                85\n",
       "Weather_Conditions                              21392\n",
       "Year                                                0\n",
       "InScotland                                         43\n",
       "dtype: int64"
      ]
     },
     "execution_count": 6,
     "metadata": {},
     "output_type": "execute_result"
    }
   ],
   "source": [
    "df.isna().sum()"
   ]
  },
  {
   "cell_type": "code",
   "execution_count": 9,
   "id": "d42998b3-31b5-41fa-bc58-fc419b089a82",
   "metadata": {},
   "outputs": [
    {
     "data": {
      "text/html": [
       "<div>\n",
       "<style scoped>\n",
       "    .dataframe tbody tr th:only-of-type {\n",
       "        vertical-align: middle;\n",
       "    }\n",
       "\n",
       "    .dataframe tbody tr th {\n",
       "        vertical-align: top;\n",
       "    }\n",
       "\n",
       "    .dataframe thead th {\n",
       "        text-align: right;\n",
       "    }\n",
       "</style>\n",
       "<table border=\"1\" class=\"dataframe\">\n",
       "  <thead>\n",
       "    <tr style=\"text-align: right;\">\n",
       "      <th></th>\n",
       "      <th>1st_Road_Number</th>\n",
       "      <th>2nd_Road_Number</th>\n",
       "      <th>Did_Police_Officer_Attend_Scene_of_Accident</th>\n",
       "      <th>Latitude</th>\n",
       "      <th>Location_Easting_OSGR</th>\n",
       "      <th>Location_Northing_OSGR</th>\n",
       "      <th>Longitude</th>\n",
       "      <th>Number_of_Casualties</th>\n",
       "      <th>Number_of_Vehicles</th>\n",
       "      <th>Pedestrian_Crossing-Human_Control</th>\n",
       "      <th>Pedestrian_Crossing-Physical_Facilities</th>\n",
       "      <th>Speed_limit</th>\n",
       "      <th>Year</th>\n",
       "    </tr>\n",
       "  </thead>\n",
       "  <tbody>\n",
       "    <tr>\n",
       "      <th>count</th>\n",
       "      <td>1.048573e+06</td>\n",
       "      <td>1.037772e+06</td>\n",
       "      <td>1.048306e+06</td>\n",
       "      <td>1.048464e+06</td>\n",
       "      <td>1.048464e+06</td>\n",
       "      <td>1.048464e+06</td>\n",
       "      <td>1.048463e+06</td>\n",
       "      <td>1.048575e+06</td>\n",
       "      <td>1.048575e+06</td>\n",
       "      <td>1.048554e+06</td>\n",
       "      <td>1.048538e+06</td>\n",
       "      <td>1.048575e+06</td>\n",
       "      <td>1.048575e+06</td>\n",
       "    </tr>\n",
       "    <tr>\n",
       "      <th>mean</th>\n",
       "      <td>1.011997e+03</td>\n",
       "      <td>3.870004e+02</td>\n",
       "      <td>1.198669e+00</td>\n",
       "      <td>5.257297e+01</td>\n",
       "      <td>4.383077e+05</td>\n",
       "      <td>2.983130e+05</td>\n",
       "      <td>-1.454537e+00</td>\n",
       "      <td>1.359930e+00</td>\n",
       "      <td>1.835030e+00</td>\n",
       "      <td>9.291844e-03</td>\n",
       "      <td>6.793955e-01</td>\n",
       "      <td>3.943654e+01</td>\n",
       "      <td>2.007328e+03</td>\n",
       "    </tr>\n",
       "    <tr>\n",
       "      <th>std</th>\n",
       "      <td>1.832042e+03</td>\n",
       "      <td>1.316673e+03</td>\n",
       "      <td>4.062626e-01</td>\n",
       "      <td>1.424463e+00</td>\n",
       "      <td>9.479292e+04</td>\n",
       "      <td>1.581757e+05</td>\n",
       "      <td>1.391890e+00</td>\n",
       "      <td>8.223645e-01</td>\n",
       "      <td>7.181454e-01</td>\n",
       "      <td>1.267232e-01</td>\n",
       "      <td>1.749380e+00</td>\n",
       "      <td>1.431206e+01</td>\n",
       "      <td>1.690220e+00</td>\n",
       "    </tr>\n",
       "    <tr>\n",
       "      <th>min</th>\n",
       "      <td>0.000000e+00</td>\n",
       "      <td>0.000000e+00</td>\n",
       "      <td>1.000000e+00</td>\n",
       "      <td>4.991443e+01</td>\n",
       "      <td>6.495000e+04</td>\n",
       "      <td>1.052000e+04</td>\n",
       "      <td>-7.516225e+00</td>\n",
       "      <td>1.000000e+00</td>\n",
       "      <td>1.000000e+00</td>\n",
       "      <td>0.000000e+00</td>\n",
       "      <td>0.000000e+00</td>\n",
       "      <td>1.000000e+01</td>\n",
       "      <td>2.005000e+03</td>\n",
       "    </tr>\n",
       "    <tr>\n",
       "      <th>25%</th>\n",
       "      <td>0.000000e+00</td>\n",
       "      <td>0.000000e+00</td>\n",
       "      <td>1.000000e+00</td>\n",
       "      <td>5.149244e+01</td>\n",
       "      <td>3.752200e+05</td>\n",
       "      <td>1.784700e+05</td>\n",
       "      <td>-2.371331e+00</td>\n",
       "      <td>1.000000e+00</td>\n",
       "      <td>1.000000e+00</td>\n",
       "      <td>0.000000e+00</td>\n",
       "      <td>0.000000e+00</td>\n",
       "      <td>3.000000e+01</td>\n",
       "      <td>2.006000e+03</td>\n",
       "    </tr>\n",
       "    <tr>\n",
       "      <th>50%</th>\n",
       "      <td>1.250000e+02</td>\n",
       "      <td>0.000000e+00</td>\n",
       "      <td>1.000000e+00</td>\n",
       "      <td>5.234314e+01</td>\n",
       "      <td>4.377000e+05</td>\n",
       "      <td>2.729300e+05</td>\n",
       "      <td>-1.435624e+00</td>\n",
       "      <td>1.000000e+00</td>\n",
       "      <td>2.000000e+00</td>\n",
       "      <td>0.000000e+00</td>\n",
       "      <td>0.000000e+00</td>\n",
       "      <td>3.000000e+01</td>\n",
       "      <td>2.007000e+03</td>\n",
       "    </tr>\n",
       "    <tr>\n",
       "      <th>75%</th>\n",
       "      <td>7.060000e+02</td>\n",
       "      <td>0.000000e+00</td>\n",
       "      <td>1.000000e+00</td>\n",
       "      <td>5.346407e+01</td>\n",
       "      <td>5.211600e+05</td>\n",
       "      <td>3.965500e+05</td>\n",
       "      <td>-2.446045e-01</td>\n",
       "      <td>1.000000e+00</td>\n",
       "      <td>2.000000e+00</td>\n",
       "      <td>0.000000e+00</td>\n",
       "      <td>0.000000e+00</td>\n",
       "      <td>5.000000e+01</td>\n",
       "      <td>2.009000e+03</td>\n",
       "    </tr>\n",
       "    <tr>\n",
       "      <th>max</th>\n",
       "      <td>9.999000e+03</td>\n",
       "      <td>9.999000e+03</td>\n",
       "      <td>3.000000e+00</td>\n",
       "      <td>6.075754e+01</td>\n",
       "      <td>6.555400e+05</td>\n",
       "      <td>1.208800e+06</td>\n",
       "      <td>1.762010e+00</td>\n",
       "      <td>6.800000e+01</td>\n",
       "      <td>3.200000e+01</td>\n",
       "      <td>2.000000e+00</td>\n",
       "      <td>8.000000e+00</td>\n",
       "      <td>7.000000e+01</td>\n",
       "      <td>2.010000e+03</td>\n",
       "    </tr>\n",
       "  </tbody>\n",
       "</table>\n",
       "</div>"
      ],
      "text/plain": [
       "       1st_Road_Number  2nd_Road_Number  \\\n",
       "count     1.048573e+06     1.037772e+06   \n",
       "mean      1.011997e+03     3.870004e+02   \n",
       "std       1.832042e+03     1.316673e+03   \n",
       "min       0.000000e+00     0.000000e+00   \n",
       "25%       0.000000e+00     0.000000e+00   \n",
       "50%       1.250000e+02     0.000000e+00   \n",
       "75%       7.060000e+02     0.000000e+00   \n",
       "max       9.999000e+03     9.999000e+03   \n",
       "\n",
       "       Did_Police_Officer_Attend_Scene_of_Accident      Latitude  \\\n",
       "count                                 1.048306e+06  1.048464e+06   \n",
       "mean                                  1.198669e+00  5.257297e+01   \n",
       "std                                   4.062626e-01  1.424463e+00   \n",
       "min                                   1.000000e+00  4.991443e+01   \n",
       "25%                                   1.000000e+00  5.149244e+01   \n",
       "50%                                   1.000000e+00  5.234314e+01   \n",
       "75%                                   1.000000e+00  5.346407e+01   \n",
       "max                                   3.000000e+00  6.075754e+01   \n",
       "\n",
       "       Location_Easting_OSGR  Location_Northing_OSGR     Longitude  \\\n",
       "count           1.048464e+06            1.048464e+06  1.048463e+06   \n",
       "mean            4.383077e+05            2.983130e+05 -1.454537e+00   \n",
       "std             9.479292e+04            1.581757e+05  1.391890e+00   \n",
       "min             6.495000e+04            1.052000e+04 -7.516225e+00   \n",
       "25%             3.752200e+05            1.784700e+05 -2.371331e+00   \n",
       "50%             4.377000e+05            2.729300e+05 -1.435624e+00   \n",
       "75%             5.211600e+05            3.965500e+05 -2.446045e-01   \n",
       "max             6.555400e+05            1.208800e+06  1.762010e+00   \n",
       "\n",
       "       Number_of_Casualties  Number_of_Vehicles  \\\n",
       "count          1.048575e+06        1.048575e+06   \n",
       "mean           1.359930e+00        1.835030e+00   \n",
       "std            8.223645e-01        7.181454e-01   \n",
       "min            1.000000e+00        1.000000e+00   \n",
       "25%            1.000000e+00        1.000000e+00   \n",
       "50%            1.000000e+00        2.000000e+00   \n",
       "75%            1.000000e+00        2.000000e+00   \n",
       "max            6.800000e+01        3.200000e+01   \n",
       "\n",
       "       Pedestrian_Crossing-Human_Control  \\\n",
       "count                       1.048554e+06   \n",
       "mean                        9.291844e-03   \n",
       "std                         1.267232e-01   \n",
       "min                         0.000000e+00   \n",
       "25%                         0.000000e+00   \n",
       "50%                         0.000000e+00   \n",
       "75%                         0.000000e+00   \n",
       "max                         2.000000e+00   \n",
       "\n",
       "       Pedestrian_Crossing-Physical_Facilities   Speed_limit          Year  \n",
       "count                             1.048538e+06  1.048575e+06  1.048575e+06  \n",
       "mean                              6.793955e-01  3.943654e+01  2.007328e+03  \n",
       "std                               1.749380e+00  1.431206e+01  1.690220e+00  \n",
       "min                               0.000000e+00  1.000000e+01  2.005000e+03  \n",
       "25%                               0.000000e+00  3.000000e+01  2.006000e+03  \n",
       "50%                               0.000000e+00  3.000000e+01  2.007000e+03  \n",
       "75%                               0.000000e+00  5.000000e+01  2.009000e+03  \n",
       "max                               8.000000e+00  7.000000e+01  2.010000e+03  "
      ]
     },
     "execution_count": 9,
     "metadata": {},
     "output_type": "execute_result"
    }
   ],
   "source": [
    "df.describe()"
   ]
  },
  {
   "cell_type": "code",
   "execution_count": 39,
   "id": "a849b9c1-1ccc-4980-bb32-642ab18e2126",
   "metadata": {},
   "outputs": [
    {
     "data": {
      "text/plain": [
       "Accident_Index                                            200501BS70060\n",
       "1st_Road_Class                                                        A\n",
       "1st_Road_Number                                                   315.0\n",
       "2nd_Road_Class                                                        C\n",
       "2nd_Road_Number                                                     0.0\n",
       "Accident_Severity                                                Slight\n",
       "Carriageway_Hazards                                                None\n",
       "Date                                                         28-02-2005\n",
       "Day_of_Week                                                      Monday\n",
       "Did_Police_Officer_Attend_Scene_of_Accident                         1.0\n",
       "Junction_Control                               Give way or uncontrolled\n",
       "Junction_Detail                                 T or staggered junction\n",
       "Latitude                                                       51.50134\n",
       "Light_Conditions                                  Darkness - lights lit\n",
       "Local_Authority_(District)                                  Westminster\n",
       "Local_Authority_(Highway)                                   Westminster\n",
       "Location_Easting_OSGR                                          526390.0\n",
       "Location_Northing_OSGR                                         179620.0\n",
       "Longitude                                                     -0.180455\n",
       "LSOA_of_Accident_Location                                     E01002891\n",
       "Number_of_Casualties                                                  1\n",
       "Number_of_Vehicles                                                    2\n",
       "Pedestrian_Crossing-Human_Control                                   0.0\n",
       "Pedestrian_Crossing-Physical_Facilities                             5.0\n",
       "Police_Force                                        Metropolitan Police\n",
       "Road_Surface_Conditions                                     Wet or damp\n",
       "Road_Type                                            Single carriageway\n",
       "Special_Conditions_at_Site                                         None\n",
       "Speed_limit                                                          30\n",
       "Time                                                              19:30\n",
       "Urban_or_Rural_Area                                               Urban\n",
       "Weather_Conditions                                Snowing no high winds\n",
       "Year                                                               2005\n",
       "InScotland                                                           No\n",
       "Name: 80, dtype: object"
      ]
     },
     "execution_count": 39,
     "metadata": {},
     "output_type": "execute_result"
    }
   ],
   "source": [
    "df.iloc[80]"
   ]
  },
  {
   "cell_type": "code",
   "execution_count": 7,
   "id": "f533fc31-3cd0-4bf9-b6db-1b4703d3c984",
   "metadata": {},
   "outputs": [
    {
     "data": {
      "text/plain": [
       "0    A\n",
       "Name: 1st_Road_Class, dtype: object"
      ]
     },
     "execution_count": 7,
     "metadata": {},
     "output_type": "execute_result"
    }
   ],
   "source": [
    "df[\"1st_Road_Class\"].mode()"
   ]
  },
  {
   "cell_type": "code",
   "execution_count": 13,
   "id": "cb6ecf24-e65d-4f00-b03d-01110c7c47cd",
   "metadata": {},
   "outputs": [
    {
     "data": {
      "text/plain": [
       "0    Unclassified\n",
       "Name: 2nd_Road_Class, dtype: object"
      ]
     },
     "execution_count": 13,
     "metadata": {},
     "output_type": "execute_result"
    }
   ],
   "source": [
    "df[\"2nd_Road_Class\"].mode()"
   ]
  },
  {
   "cell_type": "code",
   "execution_count": 10,
   "id": "2c67e92d-7274-4a2b-8bbd-2b356a6999a1",
   "metadata": {},
   "outputs": [
    {
     "data": {
      "text/plain": [
       "1011.9970073614331"
      ]
     },
     "execution_count": 10,
     "metadata": {},
     "output_type": "execute_result"
    }
   ],
   "source": [
    "df[\"1st_Road_Number\"].mean()"
   ]
  },
  {
   "cell_type": "code",
   "execution_count": 15,
   "id": "b58d99a4-49a8-4176-8ba1-1b07e29b9ff3",
   "metadata": {},
   "outputs": [
    {
     "data": {
      "text/plain": [
       "387.0004326576553"
      ]
     },
     "execution_count": 15,
     "metadata": {},
     "output_type": "execute_result"
    }
   ],
   "source": [
    "df[\"2nd_Road_Number\"].mean()"
   ]
  },
  {
   "cell_type": "code",
   "execution_count": 18,
   "id": "431d7118-002c-4d6d-8d57-605bb7efc67d",
   "metadata": {},
   "outputs": [
    {
     "data": {
      "text/plain": [
       "0    None\n",
       "Name: Carriageway_Hazards, dtype: object"
      ]
     },
     "execution_count": 18,
     "metadata": {},
     "output_type": "execute_result"
    }
   ],
   "source": [
    "df[\"Carriageway_Hazards\"].mode()"
   ]
  },
  {
   "cell_type": "code",
   "execution_count": 21,
   "id": "de007b02-6e3e-4559-827f-930a7c813d70",
   "metadata": {},
   "outputs": [
    {
     "data": {
      "text/plain": [
       "1.1986690908952158"
      ]
     },
     "execution_count": 21,
     "metadata": {},
     "output_type": "execute_result"
    }
   ],
   "source": [
    "df[\"Did_Police_Officer_Attend_Scene_of_Accident\"].mean()"
   ]
  },
  {
   "cell_type": "code",
   "execution_count": 8,
   "id": "45637633-c7e9-4e78-bcf9-caec50218f41",
   "metadata": {},
   "outputs": [],
   "source": [
    "df[\"1st_Road_Class\"] = df[\"1st_Road_Class\"].fillna(df[\"1st_Road_Class\"].mode())"
   ]
  },
  {
   "cell_type": "code",
   "execution_count": 17,
   "id": "3af3c73f-0db4-4fd1-a2fc-0ea1f1281375",
   "metadata": {},
   "outputs": [],
   "source": [
    "df[\"1st_Road_Number\"] = df[\"1st_Road_Number\"].fillna(int(df[\"1st_Road_Number\"].mean()))"
   ]
  },
  {
   "cell_type": "code",
   "execution_count": 12,
   "id": "67ab7cf6-e59d-4a26-a123-7e593392c79b",
   "metadata": {},
   "outputs": [],
   "source": [
    "df[\"2nd_Road_Class\"] = df[\"2nd_Road_Class\"].fillna(df[\"2nd_Road_Class\"].mode())"
   ]
  },
  {
   "cell_type": "code",
   "execution_count": 16,
   "id": "86d3c51a-56e9-4449-b685-77f5a78dbad1",
   "metadata": {},
   "outputs": [],
   "source": [
    "df[\"2nd_Road_Number\"] = df[\"2nd_Road_Number\"].fillna(int(df[\"2nd_Road_Number\"].mean()))"
   ]
  },
  {
   "cell_type": "code",
   "execution_count": 22,
   "id": "47dc61f3-373f-413a-849e-4c7bc9adbd2a",
   "metadata": {},
   "outputs": [],
   "source": [
    "df[\"Did_Police_Officer_Attend_Scene_of_Accident\"] = df[\"Did_Police_Officer_Attend_Scene_of_Accident\"].fillna(0)"
   ]
  },
  {
   "cell_type": "code",
   "execution_count": 27,
   "id": "97662940-49ec-4921-a546-db771526e71b",
   "metadata": {},
   "outputs": [],
   "source": [
    "df[\"Light_Conditions\"] = df[\"Light_Conditions\"].fillna(\"Darkness - lights unlit\")"
   ]
  },
  {
   "cell_type": "code",
   "execution_count": 28,
   "id": "ba3d8794-cb1f-4958-a9d6-3d5d0a7d46d1",
   "metadata": {},
   "outputs": [],
   "source": [
    "df[\"LSOA_of_Accident_Location\"] = df[\"LSOA_of_Accident_Location\"].fillna(df[\"LSOA_of_Accident_Location\"].mode())"
   ]
  },
  {
   "cell_type": "code",
   "execution_count": 29,
   "id": "5085f839-db82-4c91-94b7-7ae8e093fc48",
   "metadata": {},
   "outputs": [],
   "source": [
    "df[\"Pedestrian_Crossing-Human_Control\"] = df[\"Pedestrian_Crossing-Human_Control\"].fillna(0)"
   ]
  },
  {
   "cell_type": "code",
   "execution_count": 30,
   "id": "0a8b3be2-b9f8-4ae8-88b4-c403292e8405",
   "metadata": {},
   "outputs": [],
   "source": [
    "df[\"Pedestrian_Crossing-Physical_Facilities\"] = df[\"Pedestrian_Crossing-Physical_Facilities\"].fillna(int(df[\"Pedestrian_Crossing-Physical_Facilities\"].mean()))"
   ]
  },
  {
   "cell_type": "code",
   "execution_count": 32,
   "id": "d6ed4125-fd9b-4ce0-b6cb-894905d22ae3",
   "metadata": {},
   "outputs": [],
   "source": [
    "df[\"Road_Surface_Conditions\"] = df[\"Road_Surface_Conditions\"].fillna(\"Wet or damp\")"
   ]
  },
  {
   "cell_type": "code",
   "execution_count": 34,
   "id": "0638206b-3988-473f-b7a0-0ce07e63b391",
   "metadata": {},
   "outputs": [],
   "source": [
    "df[\"Road_Type\"] = df[\"Road_Type\"].fillna(df[\"Road_Type\"].mode())"
   ]
  },
  {
   "cell_type": "code",
   "execution_count": 36,
   "id": "0b373f81-3787-4cfd-bff6-b0c23bcd2929",
   "metadata": {},
   "outputs": [],
   "source": [
    "df[\"Special_Conditions_at_Site\"] = df[\"Special_Conditions_at_Site\"].fillna(\"Road surface defective\")"
   ]
  },
  {
   "cell_type": "code",
   "execution_count": 37,
   "id": "4cfcd8b4-0544-4c5c-9bd5-d8eb31433068",
   "metadata": {},
   "outputs": [],
   "source": [
    "df[\"Time\"]=df[\"Time\"].fillna(\"01:22\")"
   ]
  },
  {
   "cell_type": "code",
   "execution_count": 38,
   "id": "f592c429-043b-4877-9309-bd5621f4b601",
   "metadata": {},
   "outputs": [],
   "source": [
    "df[\"Urban_or_Rural_Area\"] = df[\"Urban_or_Rural_Area\"].fillna(df[\"Urban_or_Rural_Area\"].mode())"
   ]
  },
  {
   "cell_type": "code",
   "execution_count": 40,
   "id": "33c0740a-fcca-4e8b-b33c-e8f8ca0c452b",
   "metadata": {},
   "outputs": [],
   "source": [
    "df[\"Weather_Conditions\"] = df[\"Weather_Conditions\"].fillna(\"Other\")"
   ]
  },
  {
   "cell_type": "code",
   "execution_count": 41,
   "id": "aad970cd-b305-486f-8235-b2c32c7a278f",
   "metadata": {},
   "outputs": [],
   "source": [
    "df[\"InScotland\"] = df[\"InScotland\"].fillna(df[\"InScotland\"].mode())"
   ]
  },
  {
   "cell_type": "code",
   "execution_count": 43,
   "id": "04fe3788-dfe1-408a-a650-5899d01e897d",
   "metadata": {},
   "outputs": [],
   "source": [
    "df = df.dropna(axis='rows')"
   ]
  },
  {
   "cell_type": "code",
   "execution_count": 44,
   "id": "ccf65ce6-d7e1-4200-8902-1ab224cbf30b",
   "metadata": {},
   "outputs": [
    {
     "data": {
      "text/plain": [
       "Accident_Index                                 0\n",
       "1st_Road_Class                                 0\n",
       "1st_Road_Number                                0\n",
       "2nd_Road_Class                                 0\n",
       "2nd_Road_Number                                0\n",
       "Accident_Severity                              0\n",
       "Carriageway_Hazards                            0\n",
       "Date                                           0\n",
       "Day_of_Week                                    0\n",
       "Did_Police_Officer_Attend_Scene_of_Accident    0\n",
       "Junction_Control                               0\n",
       "Junction_Detail                                0\n",
       "Latitude                                       0\n",
       "Light_Conditions                               0\n",
       "Local_Authority_(District)                     0\n",
       "Local_Authority_(Highway)                      0\n",
       "Location_Easting_OSGR                          0\n",
       "Location_Northing_OSGR                         0\n",
       "Longitude                                      0\n",
       "LSOA_of_Accident_Location                      0\n",
       "Number_of_Casualties                           0\n",
       "Number_of_Vehicles                             0\n",
       "Pedestrian_Crossing-Human_Control              0\n",
       "Pedestrian_Crossing-Physical_Facilities        0\n",
       "Police_Force                                   0\n",
       "Road_Surface_Conditions                        0\n",
       "Road_Type                                      0\n",
       "Special_Conditions_at_Site                     0\n",
       "Speed_limit                                    0\n",
       "Time                                           0\n",
       "Urban_or_Rural_Area                            0\n",
       "Weather_Conditions                             0\n",
       "Year                                           0\n",
       "InScotland                                     0\n",
       "dtype: int64"
      ]
     },
     "execution_count": 44,
     "metadata": {},
     "output_type": "execute_result"
    }
   ],
   "source": [
    "df.isna().sum()"
   ]
  },
  {
   "cell_type": "code",
   "execution_count": 52,
   "id": "7485c001-55eb-474e-8481-495dc9932d39",
   "metadata": {},
   "outputs": [],
   "source": [
    "df = pd.read_csv(\"acci_data_final.csv\")"
   ]
  },
  {
   "cell_type": "code",
   "execution_count": 53,
   "id": "34435fda-a834-4211-9f66-63ce2e0f496f",
   "metadata": {},
   "outputs": [],
   "source": [
    "df[\"Latitude\"] = df[\"Latitude\"].round(2)"
   ]
  },
  {
   "cell_type": "code",
   "execution_count": 55,
   "id": "0a5b0f28-1097-45b4-a3e6-43fca750fb9b",
   "metadata": {},
   "outputs": [],
   "source": [
    "df[\"Longitude\"] = df[\"Longitude\"].round(2)"
   ]
  },
  {
   "cell_type": "code",
   "execution_count": 56,
   "id": "5388e691-8766-4b09-ac96-a61f1c6ef05d",
   "metadata": {},
   "outputs": [],
   "source": [
    "df.to_csv(\"acci_data_final.csv\")"
   ]
  }
 ],
 "metadata": {
  "kernelspec": {
   "display_name": "Python 3.10.3 64-bit",
   "language": "python",
   "name": "python3"
  },
  "language_info": {
   "codemirror_mode": {
    "name": "ipython",
    "version": 3
   },
   "file_extension": ".py",
   "mimetype": "text/x-python",
   "name": "python",
   "nbconvert_exporter": "python",
   "pygments_lexer": "ipython3",
   "version": "3.10.3"
  },
  "vscode": {
   "interpreter": {
    "hash": "a226d04346cdb28442adc1fd1ae95d38f5bfee8f2f93d7e8a40f9a2799d5e3a9"
   }
  }
 },
 "nbformat": 4,
 "nbformat_minor": 5
}
